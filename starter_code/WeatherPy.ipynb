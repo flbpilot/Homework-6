{
 "cells": [
  {
   "cell_type": "markdown",
   "metadata": {},
   "source": [
    "# WeatherPy\n",
    "----\n",
    "\n",
    "#### Note\n",
    "* Instructions have been included for each segment. You do not have to follow them exactly, but they are included to help you think through the steps."
   ]
  },
  {
   "cell_type": "code",
   "execution_count": 1,
   "metadata": {
    "scrolled": true
   },
   "outputs": [],
   "source": [
    "# Dependencies and Setup\n",
    "import matplotlib.pyplot as plt\n",
    "import pandas as pd\n",
    "import numpy as np\n",
    "import requests\n",
    "import os\n",
    "import csv\n",
    "import json\n",
    "import time\n",
    "from scipy.stats import linregress\n",
    "from pprint import pprint\n",
    "\n",
    "# Import API key\n",
    "from api_keys import weather_api_key\n",
    "\n",
    "# Incorporated citipy to determine city based on latitude and longitude\n",
    "from citipy import citipy\n",
    "\n",
    "# Output File (CSV)\n",
    "output_data_file = \"output_data/cities.csv\"\n",
    "\n",
    "# Range of latitudes and longitudes\n",
    "lat_range = (-90, 90)\n",
    "lng_range = (-180, 180)"
   ]
  },
  {
   "cell_type": "markdown",
   "metadata": {},
   "source": [
    "## Generate Cities List"
   ]
  },
  {
   "cell_type": "code",
   "execution_count": 2,
   "metadata": {},
   "outputs": [
    {
     "data": {
      "text/plain": [
       "618"
      ]
     },
     "execution_count": 2,
     "metadata": {},
     "output_type": "execute_result"
    }
   ],
   "source": [
    "# List for holding lat_lngs and cities\n",
    "lat_lngs = []\n",
    "cities = []\n",
    "\n",
    "# Create a set of random lat and lng combinations\n",
    "lats = np.random.uniform(lat_range[0], lat_range[1], size=1500)\n",
    "lngs = np.random.uniform(lng_range[0], lng_range[1], size=1500)\n",
    "lat_lngs = zip(lats, lngs)\n",
    "\n",
    "# Identify nearest city for each lat, lng combination\n",
    "for lat_lng in lat_lngs:\n",
    "    city = citipy.nearest_city(lat_lng[0], lat_lng[1]).city_name\n",
    "    \n",
    "    # If the city is unique, then add it to a our cities list\n",
    "    if city not in cities:\n",
    "        cities.append(city)\n",
    "\n",
    "# Print the city count to confirm sufficient count\n",
    "len(cities)"
   ]
  },
  {
   "cell_type": "markdown",
   "metadata": {},
   "source": [
    "### Perform API Calls\n",
    "* Perform a weather check on each city using a series of successive API calls.\n",
    "* Include a print log of each city as it'sbeing processed (with the city number and city name).\n"
   ]
  },
  {
   "cell_type": "code",
   "execution_count": 9,
   "metadata": {
    "scrolled": true
   },
   "outputs": [
    {
     "name": "stdout",
     "output_type": "stream",
     "text": [
      " City: atuona , ID: 4020109\n",
      "mahaicony not found\n",
      " City: nagato , ID: 1899102\n",
      " City: yairipok , ID: 1252810\n",
      " City: castro , ID: 3466704\n",
      " City: arraial do cabo , ID: 3471451\n",
      " City: san andres , ID: 3670218\n",
      " City: ushuaia , ID: 3833367\n",
      " City: nizhnyaya omka , ID: 1497406\n",
      " City: bacolod , ID: 1729564\n",
      " City: lorengau , ID: 2092164\n",
      " City: dikson , ID: 1507390\n",
      " City: pop , ID: 1513023\n",
      " City: jamestown , ID: 5122534\n",
      " City: port hedland , ID: 2063042\n",
      " City: hithadhoo , ID: 1282256\n",
      " City: gari , ID: 1506676\n",
      " City: kapaa , ID: 5848280\n",
      " City: qaanaaq , ID: 3831208\n",
      " City: new norfolk , ID: 2155415\n",
      " City: klerksdorp , ID: 989921\n",
      "nizhneyansk not found\n",
      " City: pevek , ID: 2122090\n",
      " City: tuatapere , ID: 2180815\n",
      " City: camargo , ID: 4013724\n",
      " City: malumfashi , ID: 2331005\n",
      " City: sao filipe , ID: 3374210\n",
      " City: bethel , ID: 5282297\n",
      " City: bilibino , ID: 2126682\n",
      " City: juybar , ID: 129933\n",
      " City: muroto , ID: 1856392\n",
      " City: saskylakh , ID: 2017155\n",
      " City: meulaboh , ID: 1214488\n",
      " City: sinegorye , ID: 2121197\n",
      " City: burnie , ID: 2173125\n",
      " City: mataura , ID: 6201424\n",
      " City: oga , ID: 3175788\n",
      " City: tasiilaq , ID: 3424607\n",
      " City: ribeira grande , ID: 3372707\n",
      " City: canto do buriti , ID: 3403251\n",
      "attawapiskat not found\n",
      " City: tiksi , ID: 2015306\n",
      " City: vaini , ID: 4032243\n",
      " City: santa helena de goias , ID: 3450206\n",
      " City: ostrovnoy , ID: 556268\n",
      " City: busselton , ID: 2075265\n",
      " City: puerto ayora , ID: 3652764\n",
      " City: bambous virieux , ID: 1106677\n",
      " City: putina , ID: 3931137\n",
      " City: togur , ID: 1489499\n",
      " City: rikitea , ID: 4030556\n",
      " City: bredasdorp , ID: 1015776\n",
      " City: victoria , ID: 1819729\n",
      " City: xuddur , ID: 49747\n",
      " City: carnarvon , ID: 2074865\n",
      " City: cayenne , ID: 3382160\n",
      " City: chokurdakh , ID: 2126123\n",
      " City: clovis , ID: 5338122\n",
      " City: upernavik , ID: 3418910\n",
      "belushya guba not found\n",
      " City: saint-francois , ID: 2980080\n",
      " City: punta arenas , ID: 3874787\n",
      " City: nuuk , ID: 3421319\n",
      "dzhusaly not found\n",
      "meyungs not found\n",
      " City: hermanus , ID: 3366880\n",
      " City: bambanglipuro , ID: 1650434\n",
      " City: dakar , ID: 2253354\n",
      " City: thompson , ID: 6165406\n",
      " City: albany , ID: 5106841\n",
      " City: butaritari , ID: 2110227\n",
      " City: wajir , ID: 178443\n",
      " City: codrington , ID: 2171099\n",
      " City: uttaradit , ID: 1605214\n",
      " City: palu , ID: 1633034\n",
      " City: luderitz , ID: 3355672\n",
      " City: torbay , ID: 6167817\n",
      " City: tura , ID: 1254046\n",
      " City: port elizabeth , ID: 964420\n",
      " City: port alfred , ID: 964432\n",
      "sofiysk not found\n",
      "barentsburg not found\n",
      " City: hobart , ID: 2163355\n",
      " City: lastoursville , ID: 2399870\n",
      "amderma not found\n",
      " City: bengkulu , ID: 1649150\n",
      " City: tizimin , ID: 3515504\n",
      " City: naze , ID: 1855540\n",
      " City: coihaique , ID: 3894426\n",
      "illoqqortoormiut not found\n",
      " City: koslan , ID: 544084\n",
      " City: yellowknife , ID: 6185377\n",
      " City: springdale , ID: 4132093\n",
      " City: andalan , ID: 1957875\n",
      " City: thinadhoo , ID: 1337610\n",
      " City: saint-joseph , ID: 6690296\n",
      " City: rio gallegos , ID: 3838859\n",
      " City: ancud , ID: 3899695\n",
      " City: kodiak , ID: 5866583\n",
      " City: kerrville , ID: 4703078\n",
      " City: cape town , ID: 3369157\n",
      " City: saint george , ID: 5546220\n",
      " City: xining , ID: 1788852\n",
      " City: namibe , ID: 3347019\n",
      " City: conde , ID: 3385077\n",
      " City: tuktoyaktuk , ID: 6170031\n",
      " City: norman wells , ID: 6089245\n",
      " City: belomorsk , ID: 577922\n",
      " City: cabo san lucas , ID: 3985710\n",
      " City: hyeres , ID: 6451497\n",
      " City: ploemeur , ID: 2986732\n",
      " City: mweka , ID: 207596\n",
      " City: xai-xai , ID: 1024552\n",
      " City: barcelos , ID: 2742416\n",
      " City: capaci , ID: 2525392\n",
      " City: clyde river , ID: 5924351\n",
      " City: makakilo city , ID: 5850554\n",
      " City: bluff , ID: 2206939\n",
      " City: saint-augustin , ID: 6137462\n",
      " City: buloh kasap , ID: 1734879\n",
      "kamenskoye not found\n",
      " City: avarua , ID: 4035715\n",
      " City: chuy , ID: 3443061\n",
      " City: husavik , ID: 2629833\n",
      " City: fairbanks , ID: 5861897\n",
      " City: east london , ID: 1006984\n",
      " City: cidreira , ID: 3466165\n",
      " City: zhigansk , ID: 2012530\n",
      " City: nokaneng , ID: 933211\n",
      " City: camocim , ID: 3403687\n",
      " City: thakurgaon , ID: 1185092\n",
      " City: bouloupari , ID: 2141722\n",
      " City: antofagasta , ID: 3899539\n",
      "pousat not found\n",
      " City: port lincoln , ID: 2063036\n",
      " City: savannakhet , ID: 1653316\n",
      " City: la victoria , ID: 3634922\n",
      " City: alice springs , ID: 2077895\n",
      " City: mar del plata , ID: 3430863\n",
      " City: vila velha , ID: 3445026\n",
      " City: benicarlo , ID: 3128273\n",
      "mocambique not found\n",
      " City: monterotondo , ID: 3172768\n",
      " City: goldsboro , ID: 4468261\n",
      " City: waingapu , ID: 1622318\n",
      " City: talnakh , ID: 1490256\n",
      " City: acapulco , ID: 3533462\n",
      "rawannawi not found\n",
      " City: dhidhdhoo , ID: 1337612\n",
      " City: buraydah , ID: 107304\n",
      " City: praia , ID: 3374333\n",
      " City: sakaiminato , ID: 1853174\n",
      " City: boa vista , ID: 3664980\n",
      " City: san juan , ID: 3837213\n",
      " City: atbasar , ID: 1526038\n",
      " City: buala , ID: 2109528\n",
      " City: bara , ID: 2347758\n",
      " City: skjervoy , ID: 777682\n",
      " City: muros , ID: 3115824\n",
      " City: lavrentiya , ID: 4031637\n",
      "taolanaro not found\n",
      " City: kisesa , ID: 156974\n",
      " City: kavieng , ID: 2094342\n",
      "lolua not found\n",
      " City: laguna , ID: 5364271\n",
      " City: taoudenni , ID: 2450173\n",
      " City: hamilton , ID: 4513583\n",
      " City: airai , ID: 1651810\n",
      " City: novyy urengoy , ID: 1496511\n",
      "barbar not found\n",
      " City: madera , ID: 5369578\n",
      " City: mango , ID: 4163318\n",
      " City: prince rupert , ID: 6113406\n",
      " City: luhyny , ID: 702679\n",
      " City: bowen , ID: 2174444\n",
      " City: lebu , ID: 3883457\n",
      " City: kachiry , ID: 1523662\n",
      " City: ponta delgada , ID: 3372783\n",
      " City: yulara , ID: 6355222\n",
      " City: port moresby , ID: 2088122\n",
      " City: kudahuvadhoo , ID: 1337607\n",
      " City: honiara , ID: 2108502\n",
      " City: neubrandenburg , ID: 2866135\n",
      " City: male , ID: 1282027\n",
      " City: ayan , ID: 2027316\n",
      " City: gulu , ID: 233346\n",
      " City: ketchikan , ID: 5554428\n",
      "sentyabrskiy not found\n",
      " City: ngunguru , ID: 2186111\n",
      " City: sinnamary , ID: 3380290\n",
      " City: usakos , ID: 3352461\n",
      " City: korla , ID: 1529376\n",
      " City: khatanga , ID: 2022572\n",
      " City: rodrigues alves , ID: 3665210\n",
      " City: boca do acre , ID: 3664956\n",
      " City: katsuura , ID: 2112309\n",
      " City: kahului , ID: 5847411\n",
      " City: atar , ID: 2381334\n",
      " City: maldonado , ID: 3441890\n",
      " City: purranque , ID: 3874579\n",
      " City: cockburn town , ID: 3576994\n",
      " City: tamiahua , ID: 3516376\n",
      " City: qasigiannguit , ID: 3420768\n",
      " City: los llanos de aridane , ID: 2514651\n",
      " City: goderich , ID: 5962442\n",
      " City: northam , ID: 2641434\n",
      " City: asau , ID: 686090\n",
      " City: kangaba , ID: 2455735\n",
      " City: nhulunbuy , ID: 2064735\n",
      "palabuhanratu not found\n",
      " City: lata , ID: 2738381\n",
      " City: biak , ID: 1637001\n",
      " City: coquimbo , ID: 3893629\n",
      " City: novochernorechenskiy , ID: 1497132\n",
      " City: kudat , ID: 1736458\n",
      " City: samarai , ID: 2132606\n",
      " City: comodoro rivadavia , ID: 3860443\n",
      " City: wooster , ID: 5177358\n",
      " City: longyearbyen , ID: 2729907\n",
      " City: portland , ID: 5746545\n",
      " City: flin flon , ID: 5954718\n",
      "mys shmidta not found\n",
      " City: san quintin , ID: 3984997\n",
      " City: dingle , ID: 1714733\n",
      " City: georgetown , ID: 1735106\n",
      " City: hilo , ID: 5855927\n",
      " City: grindavik , ID: 3416888\n",
      " City: jiuquan , ID: 1279945\n",
      " City: port-cartier , ID: 6111696\n",
      " City: port hardy , ID: 6111862\n",
      " City: tabou , ID: 2281120\n",
      " City: huarmey , ID: 3939168\n",
      " City: ponta do sol , ID: 2264557\n",
      " City: gradistea , ID: 676819\n",
      " City: sucre , ID: 3903987\n",
      " City: praia da vitoria , ID: 3372760\n",
      " City: ahipara , ID: 2194098\n",
      " City: guozhen , ID: 1809263\n",
      " City: yarkovo , ID: 1486369\n",
      " City: lakatoro , ID: 2136697\n",
      " City: tianpeng , ID: 1792916\n",
      " City: saint-philippe , ID: 935215\n",
      " City: pangnirtung , ID: 6096551\n",
      "solovetskiy not found\n",
      "tabiauea not found\n",
      " City: pasuruan , ID: 1632033\n",
      " City: maniitsoq , ID: 3421982\n",
      " City: maceio , ID: 3395981\n",
      "juifang not found\n",
      " City: westport , ID: 4845585\n",
      " City: provideniya , ID: 4031574\n",
      " City: barrow , ID: 5880054\n",
      " City: fairmont , ID: 4805404\n",
      " City: camacha , ID: 2270385\n",
      " City: bama , ID: 2347954\n",
      " City: nikolskoye , ID: 546105\n",
      " City: noumea , ID: 2139521\n",
      " City: awjilah , ID: 88533\n",
      " City: college , ID: 5859699\n",
      " City: mamakan , ID: 2020311\n",
      " City: mountain home , ID: 5601615\n",
      " City: nioki , ID: 2311968\n",
      " City: andenes , ID: 3163146\n",
      " City: vardo , ID: 777019\n",
      " City: alghero , ID: 3183284\n",
      " City: vredendal , ID: 3359736\n",
      " City: leningradskiy , ID: 2123814\n",
      " City: kaitangata , ID: 2208248\n",
      " City: mwanza , ID: 152224\n",
      " City: mahibadhoo , ID: 1337605\n",
      " City: jumla , ID: 1283285\n",
      " City: ust-nera , ID: 2120048\n",
      " City: carballo , ID: 3126369\n",
      " City: laurel , ID: 4360369\n",
      " City: severo-kurilsk , ID: 2121385\n",
      " City: zyrardow , ID: 752967\n",
      " City: lompoc , ID: 5367788\n",
      " City: adrar , ID: 2381972\n"
     ]
    },
    {
     "name": "stdout",
     "output_type": "stream",
     "text": [
      " City: tomakomai , ID: 2127733\n",
      " City: mount gambier , ID: 2156643\n",
      " City: anadyr , ID: 2127202\n",
      "grand river south east not found\n",
      " City: loudeac , ID: 2997465\n",
      " City: cherskiy , ID: 2126199\n",
      " City: aloleng , ID: 1731298\n",
      " City: camana , ID: 3945985\n",
      " City: mwinilunga , ID: 902620\n",
      "toliary not found\n",
      " City: geraldton , ID: 2070998\n",
      " City: berlevag , ID: 780687\n",
      "tsihombe not found\n",
      " City: aasiaat , ID: 3424901\n",
      " City: lakes entrance , ID: 2160735\n",
      "nguiu not found\n",
      " City: qinhuangdao , ID: 1797595\n",
      " City: saint-georges , ID: 3579925\n",
      " City: puerto colombia , ID: 3671497\n",
      " City: narsaq , ID: 3421719\n",
      " City: kavaratti , ID: 1267390\n",
      " City: bagdarin , ID: 2027244\n",
      " City: okmulgee , ID: 4544383\n",
      " City: la palma , ID: 5364022\n",
      " City: ladario , ID: 3459352\n",
      " City: souillac , ID: 933995\n",
      " City: tongchuan , ID: 1795196\n",
      " City: senno , ID: 497024\n",
      "samusu not found\n",
      " City: lucca , ID: 3174529\n",
      " City: esperance , ID: 2071860\n",
      " City: hofn , ID: 2630299\n",
      " City: kawalu , ID: 1640902\n",
      " City: alofi , ID: 4036284\n",
      " City: sitka , ID: 5557293\n",
      " City: lagoa , ID: 3372964\n",
      " City: belaya gora , ID: 2126785\n",
      " City: tual , ID: 1623197\n",
      " City: moranbah , ID: 6533368\n",
      " City: balaoan , ID: 1728439\n",
      " City: talaya , ID: 2120769\n",
      "vaitupu not found\n",
      " City: stornoway , ID: 2636790\n",
      " City: cardston , ID: 5916821\n",
      " City: vilhena , ID: 3924679\n",
      " City: pacifica , ID: 5380420\n",
      "kawana waters not found\n",
      " City: hasaki , ID: 2112802\n",
      " City: dhilwan , ID: 1272771\n",
      " City: houma , ID: 4328010\n",
      " City: rawson , ID: 3839307\n",
      " City: otane , ID: 2185329\n",
      " City: shanghai , ID: 1796236\n",
      " City: wahiawa , ID: 5853992\n",
      " City: senekal , ID: 956507\n",
      "louisbourg not found\n",
      " City: sherlovaya gora , ID: 2016735\n",
      " City: manzil salim , ID: 2469252\n",
      "burkhala not found\n",
      " City: mahebourg , ID: 934322\n",
      " City: impfondo , ID: 2259655\n",
      " City: hoquiam , ID: 5797693\n",
      " City: tornio , ID: 634093\n",
      " City: gorin , ID: 2023943\n",
      " City: clarence town , ID: 2171465\n",
      " City: araripina , ID: 3407243\n",
      " City: miles city , ID: 5666176\n",
      " City: jawhar , ID: 56335\n",
      " City: bakchar , ID: 1511057\n",
      " City: abeche , ID: 245785\n",
      " City: dauphin , ID: 5935341\n",
      " City: pacific grove , ID: 5380437\n",
      " City: sao joao da barra , ID: 3448903\n",
      " City: mandera , ID: 187896\n",
      " City: rypefjord , ID: 847634\n",
      " City: huamachuco , ID: 3696509\n",
      " City: faya , ID: 110690\n",
      " City: hurst , ID: 4699575\n",
      " City: milkovo , ID: 2123278\n",
      " City: lamu , ID: 189741\n",
      " City: corinto , ID: 259289\n",
      "maloshuyka not found\n",
      " City: auki , ID: 2109701\n",
      " City: pisco , ID: 3932145\n",
      " City: constitucion , ID: 3893726\n",
      " City: tonota , ID: 933000\n",
      " City: ormoz , ID: 3193965\n",
      " City: zhezkazgan , ID: 1516589\n",
      " City: sonoita , ID: 3982837\n",
      " City: dunedin , ID: 2191562\n",
      " City: komsomolskiy , ID: 1513491\n",
      " City: fortuna , ID: 5563839\n",
      " City: san blas , ID: 3987544\n",
      " City: honningsvag , ID: 779554\n",
      " City: kassala , ID: 372753\n",
      " City: hualmay , ID: 3939761\n",
      " City: mankato , ID: 5036420\n",
      " City: tivaouane , ID: 2244800\n",
      " City: lengshuijiang , ID: 1804169\n",
      " City: lokosovo , ID: 1500399\n",
      " City: acari , ID: 3948613\n",
      " City: darnetal , ID: 3021717\n",
      " City: banda aceh , ID: 1215502\n",
      " City: waipawa , ID: 2206874\n",
      " City: semikarakorsk , ID: 497218\n",
      " City: atambua , ID: 1651103\n",
      " City: zatoka , ID: 687557\n",
      " City: tautira , ID: 4033557\n",
      " City: lage , ID: 2881956\n",
      " City: abiramam , ID: 1279405\n",
      " City: carlsbad , ID: 5334223\n",
      " City: changli , ID: 1815656\n",
      " City: port blair , ID: 1259385\n",
      " City: klaksvik , ID: 2618795\n",
      " City: banjar , ID: 1650232\n",
      " City: mosetse , ID: 933277\n",
      " City: orcopampa , ID: 3933986\n",
      " City: oktyabrskoye , ID: 515805\n",
      " City: saldanha , ID: 3361934\n",
      " City: saint-pierre , ID: 935214\n",
      "karamay not found\n",
      " City: luganville , ID: 2136150\n",
      " City: lichuan , ID: 1803782\n",
      " City: asilah , ID: 2557055\n",
      " City: tera , ID: 2438855\n",
      " City: jinan , ID: 1805753\n",
      " City: nuevo progreso , ID: 3522526\n",
      " City: kulhudhuffushi , ID: 1337613\n",
      " City: bandarbeyla , ID: 64814\n",
      " City: flinders , ID: 6255012\n",
      " City: palmer , ID: 4946620\n",
      " City: chapais , ID: 5919850\n",
      " City: prizren , ID: 786712\n",
      " City: jalu , ID: 86049\n",
      "malwan not found\n",
      " City: dalvik , ID: 2632287\n",
      " City: chernyshevskiy , ID: 2025456\n",
      " City: ruteng , ID: 1629380\n",
      " City: sarny , ID: 694792\n",
      " City: lubaczow , ID: 765932\n",
      " City: kedrovyy , ID: 1538641\n",
      " City: krasnovishersk , ID: 542184\n",
      " City: san patricio , ID: 4726521\n",
      " City: santa vitoria do palmar , ID: 3449747\n",
      " City: north bend , ID: 5742974\n",
      " City: hobyo , ID: 57000\n",
      " City: port-gentil , ID: 2396518\n",
      " City: beringovskiy , ID: 2126710\n",
      " City: tokur , ID: 2015217\n",
      " City: lulea , ID: 604490\n",
      " City: miramar , ID: 4164601\n",
      " City: morant bay , ID: 3489440\n",
      " City: dungarvan , ID: 2964528\n",
      " City: talipparamba , ID: 1255121\n",
      " City: rabo de peixe , ID: 3372745\n",
      " City: port lavaca , ID: 4720067\n",
      " City: bonfim , ID: 3405215\n",
      " City: umm lajj , ID: 100926\n",
      " City: bathsheba , ID: 3374083\n",
      " City: beyneu , ID: 610298\n",
      " City: smithers , ID: 6149996\n",
      " City: guhagar , ID: 1270779\n",
      " City: axim , ID: 2303611\n",
      " City: khandbari , ID: 1283217\n",
      " City: omsukchan , ID: 2122493\n",
      " City: kaeo , ID: 2189343\n",
      " City: mujiayingzi , ID: 2035707\n",
      " City: kemijarvi , ID: 653272\n",
      " City: rocha , ID: 3440777\n",
      " City: gonda , ID: 1270996\n",
      " City: itoman , ID: 1861280\n",
      " City: dalaba , ID: 2422383\n",
      " City: catalina foothills , ID: 5288786\n",
      " City: sioux lookout , ID: 6148373\n",
      " City: mukhen , ID: 2019718\n",
      "bandar-e torkaman not found\n",
      " City: mnogovershinnyy , ID: 2019935\n",
      " City: fairfield , ID: 4834162\n",
      " City: sibolga , ID: 1213855\n",
      " City: amuntai , ID: 1651461\n",
      " City: bitung , ID: 1648636\n",
      " City: semey , ID: 1519422\n",
      " City: santa catarina de tepehuanes , ID: 3984571\n",
      " City: yerbogachen , ID: 2012956\n",
      " City: cascina , ID: 3179977\n",
      " City: mana , ID: 3381041\n",
      " City: nouadhibou , ID: 2377457\n",
      " City: taltal , ID: 3870243\n",
      " City: hirara , ID: 1862505\n",
      " City: santiago del estero , ID: 3835869\n",
      " City: ilulissat , ID: 3423146\n",
      " City: back mountain , ID: 5178800\n",
      " City: ixtapa , ID: 4004293\n",
      " City: marandahalli , ID: 1263557\n",
      " City: augusto correa , ID: 3406961\n",
      " City: bella union , ID: 3443631\n",
      " City: riacho de santana , ID: 3451448\n",
      " City: paramonga , ID: 3933024\n",
      " City: vinh , ID: 1562798\n",
      " City: kieta , ID: 2094027\n",
      " City: zharkent , ID: 1520253\n",
      " City: aksu , ID: 1529660\n",
      " City: carupano , ID: 3646382\n",
      " City: minsk , ID: 625144\n",
      " City: ulaanbaatar , ID: 2028462\n",
      " City: svetlyy , ID: 485660\n",
      " City: ashqelon , ID: 295620\n",
      " City: colac , ID: 2171069\n",
      " City: te anau , ID: 2181625\n",
      " City: aklavik , ID: 5882953\n",
      " City: virtsu , ID: 591189\n",
      " City: maragogi , ID: 3395458\n",
      "labutta not found\n",
      " City: skelleftea , ID: 602913\n",
      " City: nizhniy chir , ID: 520783\n",
      " City: pontes e lacerda , ID: 3453060\n",
      " City: manaure , ID: 3675504\n",
      " City: yar-sale , ID: 1486321\n",
      " City: touros , ID: 3386213\n",
      "one hundred mile house not found\n",
      " City: basco , ID: 1726449\n",
      " City: seymchan , ID: 2121373\n",
      " City: bentiu , ID: 377472\n",
      " City: ouro preto do oeste , ID: 3924948\n",
      " City: murray bridge , ID: 2065176\n",
      " City: moose factory , ID: 6078372\n",
      " City: ibra , ID: 287832\n",
      " City: cap malheureux , ID: 934649\n",
      " City: suntar , ID: 2015913\n",
      " City: kaseda , ID: 1859964\n",
      " City: ahuimanu , ID: 5856516\n",
      " City: toucheng , ID: 1674199\n",
      " City: tyrma , ID: 2014694\n",
      "eskasem not found\n",
      " City: arvi , ID: 1278335\n",
      " City: kabin buri , ID: 1610538\n",
      " City: shimoda , ID: 1852357\n",
      " City: marsaxlokk , ID: 2562247\n",
      " City: nantucket , ID: 4944903\n",
      " City: bose , ID: 6457397\n",
      " City: pangody , ID: 1495626\n",
      " City: satka , ID: 498418\n",
      " City: guerrero negro , ID: 4021858\n",
      " City: margate , ID: 2643044\n",
      "rungata not found\n",
      " City: gubkinskiy , ID: 1539209\n",
      " City: simplicio mendes , ID: 3387620\n",
      " City: bonthe , ID: 2409914\n",
      " City: peterhead , ID: 2640351\n",
      " City: siilinjarvi , ID: 636947\n",
      " City: amga , ID: 2027786\n",
      " City: bago , ID: 1300466\n",
      "wahran not found\n",
      " City: pasichna , ID: 697945\n",
      " City: twentynine palms , ID: 5404198\n",
      "jabiru not found\n",
      " City: balabac , ID: 1728675\n",
      "tabukiniberu not found\n",
      "sumbawa not found\n",
      " City: adjumani , ID: 235489\n",
      " City: havoysund , ID: 779622\n",
      " City: wanaka , ID: 2184707\n",
      " City: kishanganj , ID: 1266489\n",
      " City: hambantota , ID: 1244926\n",
      " City: harnosand , ID: 2707684\n",
      " City: goure , ID: 2444219\n",
      " City: sambava , ID: 1056899\n",
      " City: autazes , ID: 3406948\n",
      " City: paamiut , ID: 3421193\n",
      " City: scarborough , ID: 2638419\n",
      " City: sampit , ID: 1628884\n",
      "marcona not found\n",
      " City: akyab , ID: 1295765\n",
      " City: ust-kuyga , ID: 2013921\n",
      " City: alexandria , ID: 361058\n",
      " City: mut , ID: 304013\n",
      " City: nome , ID: 5870133\n",
      " City: vao , ID: 2137773\n",
      " City: paita , ID: 3694112\n",
      " City: nanortalik , ID: 3421765\n"
     ]
    },
    {
     "name": "stdout",
     "output_type": "stream",
     "text": [
      " City: goundam , ID: 2456917\n",
      " City: shilka , ID: 2016708\n",
      " City: altay , ID: 1529651\n",
      " City: shumskiy , ID: 1491977\n",
      " City: lumphat , ID: 1830377\n",
      " City: santo antonio do monte , ID: 3449500\n",
      " City: faanui , ID: 4034551\n",
      " City: miandrivazo , ID: 1059051\n",
      " City: teguise , ID: 2510573\n",
      " City: alamos , ID: 4018904\n",
      " City: grand gaube , ID: 934479\n",
      " City: shostka , ID: 693942\n",
      " City: okhotsk , ID: 2122605\n",
      " City: wodonga , ID: 2143285\n",
      " City: krasnoselkup , ID: 1502073\n",
      " City: covington , ID: 4288809\n",
      " City: mayo , ID: 4362001\n",
      "tumannyy not found\n",
      " City: broome , ID: 5110365\n",
      " City: macedo de cavaleiros , ID: 2738082\n",
      " City: pullman , ID: 5807540\n",
      "bargal not found\n",
      " City: loa janan , ID: 1637510\n",
      " City: huacho , ID: 3940002\n",
      "cagayan de tawi-tawi not found\n",
      " City: kissidougou , ID: 2419472\n",
      " City: radhanpur , ID: 1259069\n",
      " City: vestmannaeyjar , ID: 3412093\n",
      "mudyuga not found\n",
      " City: kwekwe , ID: 888710\n",
      " City: ulaangom , ID: 1515029\n",
      " City: taksimo , ID: 2015701\n",
      " City: rincon , ID: 4218882\n",
      " City: steinbach , ID: 2828737\n",
      " City: kalmar , ID: 2702261\n",
      " City: avera , ID: 4231997\n",
      " City: berberati , ID: 2389086\n",
      " City: comarapa , ID: 3919703\n",
      " City: cheremukhovo , ID: 569295\n",
      " City: denpasar , ID: 1645528\n",
      " City: ormara , ID: 1168700\n",
      " City: saint-alexandre , ID: 6431379\n",
      " City: kjollefjord , ID: 779261\n",
      " City: polunochnoye , ID: 1494482\n",
      " City: zhuhai , ID: 1790437\n",
      " City: harper , ID: 2276492\n",
      " City: nioro , ID: 2412408\n",
      " City: pyapon , ID: 1299237\n",
      " City: puerto madero , ID: 3520989\n",
      " City: srednekolymsk , ID: 2121025\n",
      " City: sironj , ID: 1256064\n",
      " City: kundiawa , ID: 2093059\n",
      " City: luanda , ID: 2240449\n",
      " City: catuday , ID: 1717787\n",
      "grimari not found\n",
      " City: chipinge , ID: 893549\n",
      " City: linkoping , ID: 2694762\n",
      "bolshaya murta not found\n",
      " City: sungairaya , ID: 1625908\n",
      " City: broken hill , ID: 2173911\n"
     ]
    }
   ],
   "source": [
    "#openweather base url for API a list to append answers(data)\n",
    "weather_url = 'http://api.openweathermap.org/data/2.5/weather?q='\n",
    "responses = []\n",
    "city_name = []\n",
    "city_id = []\n",
    "country = []\n",
    "lat = []\n",
    "lon = []\n",
    "date = []\n",
    "max_temp = []\n",
    "humid = []\n",
    "cloud = []\n",
    "wind = []\n",
    "\n",
    "\n",
    "for city in cities:\n",
    "    try:\n",
    "        weather_data = requests.get(f'{weather_url}{city}&appid={weather_api_key}&units=imperial').json()\n",
    "        responses.append(weather_data)\n",
    "        city_name.append(weather_data['name'])\n",
    "        city_id.append(weather_data['id'])\n",
    "        country.append(weather_data['sys']['country'])\n",
    "        lat.append(weather_data['coord']['lat'])\n",
    "        lon.append(weather_data['coord']['lon'])\n",
    "        date.append(weather_data['dt'])\n",
    "        max_temp.append(weather_data['main']['temp_max'])\n",
    "        humid.append(weather_data['main']['humidity'])\n",
    "        cloud.append(weather_data['clouds']['all'])\n",
    "        wind.append(weather_data['wind']['speed'])\n",
    "        \n",
    "        print(f\" getting Data for the City of: {city}, {country} , ID: {weather_data['id']}\")\n",
    "        #pause pull by seconds\n",
    "        time.sleep(1.1)\n",
    "    \n",
    "    except:\n",
    "        print(f\"{city} not found\")\n",
    "        pass      \n",
    "    #pause pull by seconds\n",
    "    time.sleep(1.1)\n"
   ]
  },
  {
   "cell_type": "markdown",
   "metadata": {},
   "source": [
    "### Convert Raw Data to DataFrame\n",
    "* Export the city data into a .csv.\n",
    "* Display the DataFrame"
   ]
  },
  {
   "cell_type": "code",
   "execution_count": 40,
   "metadata": {
    "scrolled": false
   },
   "outputs": [
    {
     "data": {
      "text/html": [
       "<div>\n",
       "<style scoped>\n",
       "    .dataframe tbody tr th:only-of-type {\n",
       "        vertical-align: middle;\n",
       "    }\n",
       "\n",
       "    .dataframe tbody tr th {\n",
       "        vertical-align: top;\n",
       "    }\n",
       "\n",
       "    .dataframe thead th {\n",
       "        text-align: right;\n",
       "    }\n",
       "</style>\n",
       "<table border=\"1\" class=\"dataframe\">\n",
       "  <thead>\n",
       "    <tr style=\"text-align: right;\">\n",
       "      <th></th>\n",
       "      <th>City ID</th>\n",
       "      <th>City Name</th>\n",
       "      <th>Country</th>\n",
       "      <th>Latitude</th>\n",
       "      <th>Longitude</th>\n",
       "      <th>Max Temperature</th>\n",
       "      <th>Humidity</th>\n",
       "      <th>Clouds</th>\n",
       "      <th>Wind Speed</th>\n",
       "      <th>Date</th>\n",
       "    </tr>\n",
       "  </thead>\n",
       "  <tbody>\n",
       "    <tr>\n",
       "      <th>0</th>\n",
       "      <td>4020109</td>\n",
       "      <td>Atuona</td>\n",
       "      <td>PF</td>\n",
       "      <td>-9.8000</td>\n",
       "      <td>-139.0333</td>\n",
       "      <td>80.28</td>\n",
       "      <td>77</td>\n",
       "      <td>89</td>\n",
       "      <td>21.81</td>\n",
       "      <td>1612651136</td>\n",
       "    </tr>\n",
       "    <tr>\n",
       "      <th>1</th>\n",
       "      <td>1899102</td>\n",
       "      <td>Nagato</td>\n",
       "      <td>JP</td>\n",
       "      <td>34.3833</td>\n",
       "      <td>131.2000</td>\n",
       "      <td>48.20</td>\n",
       "      <td>93</td>\n",
       "      <td>75</td>\n",
       "      <td>3.44</td>\n",
       "      <td>1612651141</td>\n",
       "    </tr>\n",
       "    <tr>\n",
       "      <th>2</th>\n",
       "      <td>1252810</td>\n",
       "      <td>Yairipok</td>\n",
       "      <td>IN</td>\n",
       "      <td>24.6667</td>\n",
       "      <td>94.0667</td>\n",
       "      <td>46.78</td>\n",
       "      <td>79</td>\n",
       "      <td>0</td>\n",
       "      <td>1.34</td>\n",
       "      <td>1612651144</td>\n",
       "    </tr>\n",
       "    <tr>\n",
       "      <th>3</th>\n",
       "      <td>3466704</td>\n",
       "      <td>Castro</td>\n",
       "      <td>BR</td>\n",
       "      <td>-24.7911</td>\n",
       "      <td>-50.0119</td>\n",
       "      <td>62.64</td>\n",
       "      <td>68</td>\n",
       "      <td>0</td>\n",
       "      <td>6.91</td>\n",
       "      <td>1612650958</td>\n",
       "    </tr>\n",
       "    <tr>\n",
       "      <th>4</th>\n",
       "      <td>3471451</td>\n",
       "      <td>Arraial do Cabo</td>\n",
       "      <td>BR</td>\n",
       "      <td>-22.9661</td>\n",
       "      <td>-42.0278</td>\n",
       "      <td>71.60</td>\n",
       "      <td>94</td>\n",
       "      <td>75</td>\n",
       "      <td>3.44</td>\n",
       "      <td>1612651041</td>\n",
       "    </tr>\n",
       "  </tbody>\n",
       "</table>\n",
       "</div>"
      ],
      "text/plain": [
       "   City ID        City Name Country  Latitude  Longitude  Max Temperature  \\\n",
       "0  4020109           Atuona      PF   -9.8000  -139.0333            80.28   \n",
       "1  1899102           Nagato      JP   34.3833   131.2000            48.20   \n",
       "2  1252810         Yairipok      IN   24.6667    94.0667            46.78   \n",
       "3  3466704           Castro      BR  -24.7911   -50.0119            62.64   \n",
       "4  3471451  Arraial do Cabo      BR  -22.9661   -42.0278            71.60   \n",
       "\n",
       "   Humidity  Clouds  Wind Speed        Date  \n",
       "0        77      89       21.81  1612651136  \n",
       "1        93      75        3.44  1612651141  \n",
       "2        79       0        1.34  1612651144  \n",
       "3        68       0        6.91  1612650958  \n",
       "4        94      75        3.44  1612651041  "
      ]
     },
     "execution_count": 40,
     "metadata": {},
     "output_type": "execute_result"
    }
   ],
   "source": [
    "#Display DataFrame\n",
    "clean_weather_df = pd.DataFrame({\"City ID\": city_id,\"City Name\": city_name,\n",
    "                                \"Country\": country, \"Latitude\": lat, \"Longitude\": lon,\n",
    "                                \"Max Temperature\": max_temp, \"Humidity\": humid, \"Clouds\": cloud,\n",
    "                                \"Wind Speed\": wind, \"Date\": date\n",
    "                                })\n",
    "clean_weather_df.head()"
   ]
  },
  {
   "cell_type": "code",
   "execution_count": 59,
   "metadata": {},
   "outputs": [
    {
     "data": {
      "text/plain": [
       "City ID            567\n",
       "City Name          567\n",
       "Country            567\n",
       "Latitude           567\n",
       "Longitude          567\n",
       "Max Temperature    567\n",
       "Humidity           567\n",
       "Clouds             567\n",
       "Wind Speed         567\n",
       "Date               567\n",
       "dtype: int64"
      ]
     },
     "execution_count": 59,
     "metadata": {},
     "output_type": "execute_result"
    }
   ],
   "source": [
    "#count Cities\n",
    "clean_weather_df.count()"
   ]
  },
  {
   "cell_type": "code",
   "execution_count": 42,
   "metadata": {},
   "outputs": [],
   "source": [
    "#export to CSV\n",
    "clean_weather_df.to_csv(\"../output_data/city_weather_data.csv\")"
   ]
  },
  {
   "cell_type": "markdown",
   "metadata": {},
   "source": [
    "## Inspect the data and remove the cities where the humidity > 100%.\n",
    "----\n",
    "Skip this step if there are no cities that have humidity > 100%. "
   ]
  },
  {
   "cell_type": "code",
   "execution_count": 53,
   "metadata": {},
   "outputs": [
    {
     "data": {
      "text/plain": [
       "Int64Index([], dtype='int64')"
      ]
     },
     "execution_count": 53,
     "metadata": {},
     "output_type": "execute_result"
    }
   ],
   "source": [
    "#  Get the indices of cities that have humidity over 100%.\n",
    "cities_humid = clean_weather_df[clean_weather_df[\"Humidity\"] >100].index\n",
    "cities_humid"
   ]
  },
  {
   "cell_type": "code",
   "execution_count": 54,
   "metadata": {},
   "outputs": [
    {
     "data": {
      "text/html": [
       "<div>\n",
       "<style scoped>\n",
       "    .dataframe tbody tr th:only-of-type {\n",
       "        vertical-align: middle;\n",
       "    }\n",
       "\n",
       "    .dataframe tbody tr th {\n",
       "        vertical-align: top;\n",
       "    }\n",
       "\n",
       "    .dataframe thead th {\n",
       "        text-align: right;\n",
       "    }\n",
       "</style>\n",
       "<table border=\"1\" class=\"dataframe\">\n",
       "  <thead>\n",
       "    <tr style=\"text-align: right;\">\n",
       "      <th></th>\n",
       "      <th>City ID</th>\n",
       "      <th>Latitude</th>\n",
       "      <th>Longitude</th>\n",
       "      <th>Max Temperature</th>\n",
       "      <th>Humidity</th>\n",
       "      <th>Clouds</th>\n",
       "      <th>Wind Speed</th>\n",
       "      <th>Date</th>\n",
       "    </tr>\n",
       "  </thead>\n",
       "  <tbody>\n",
       "    <tr>\n",
       "      <th>count</th>\n",
       "      <td>5.670000e+02</td>\n",
       "      <td>567.000000</td>\n",
       "      <td>567.000000</td>\n",
       "      <td>567.000000</td>\n",
       "      <td>567.000000</td>\n",
       "      <td>567.000000</td>\n",
       "      <td>567.000000</td>\n",
       "      <td>5.670000e+02</td>\n",
       "    </tr>\n",
       "    <tr>\n",
       "      <th>mean</th>\n",
       "      <td>2.680935e+06</td>\n",
       "      <td>20.923610</td>\n",
       "      <td>20.051685</td>\n",
       "      <td>49.708995</td>\n",
       "      <td>72.881834</td>\n",
       "      <td>49.105820</td>\n",
       "      <td>8.499471</td>\n",
       "      <td>1.612652e+09</td>\n",
       "    </tr>\n",
       "    <tr>\n",
       "      <th>std</th>\n",
       "      <td>1.583563e+06</td>\n",
       "      <td>33.459916</td>\n",
       "      <td>91.284754</td>\n",
       "      <td>31.353623</td>\n",
       "      <td>20.594996</td>\n",
       "      <td>39.546807</td>\n",
       "      <td>6.030683</td>\n",
       "      <td>5.043479e+02</td>\n",
       "    </tr>\n",
       "    <tr>\n",
       "      <th>min</th>\n",
       "      <td>4.974700e+04</td>\n",
       "      <td>-54.800000</td>\n",
       "      <td>-175.200000</td>\n",
       "      <td>-39.510000</td>\n",
       "      <td>1.000000</td>\n",
       "      <td>0.000000</td>\n",
       "      <td>0.040000</td>\n",
       "      <td>1.612651e+09</td>\n",
       "    </tr>\n",
       "    <tr>\n",
       "      <th>25%</th>\n",
       "      <td>1.529514e+06</td>\n",
       "      <td>-7.610700</td>\n",
       "      <td>-60.409550</td>\n",
       "      <td>30.490000</td>\n",
       "      <td>64.000000</td>\n",
       "      <td>3.500000</td>\n",
       "      <td>4.000000</td>\n",
       "      <td>1.612652e+09</td>\n",
       "    </tr>\n",
       "    <tr>\n",
       "      <th>50%</th>\n",
       "      <td>2.189343e+06</td>\n",
       "      <td>25.350000</td>\n",
       "      <td>22.154700</td>\n",
       "      <td>60.800000</td>\n",
       "      <td>78.000000</td>\n",
       "      <td>40.000000</td>\n",
       "      <td>6.910000</td>\n",
       "      <td>1.612652e+09</td>\n",
       "    </tr>\n",
       "    <tr>\n",
       "      <th>75%</th>\n",
       "      <td>3.658860e+06</td>\n",
       "      <td>49.614350</td>\n",
       "      <td>102.382750</td>\n",
       "      <td>75.200000</td>\n",
       "      <td>88.000000</td>\n",
       "      <td>90.000000</td>\n",
       "      <td>11.500000</td>\n",
       "      <td>1.612652e+09</td>\n",
       "    </tr>\n",
       "    <tr>\n",
       "      <th>max</th>\n",
       "      <td>6.690296e+06</td>\n",
       "      <td>78.218600</td>\n",
       "      <td>179.316700</td>\n",
       "      <td>91.870000</td>\n",
       "      <td>100.000000</td>\n",
       "      <td>100.000000</td>\n",
       "      <td>33.380000</td>\n",
       "      <td>1.612653e+09</td>\n",
       "    </tr>\n",
       "  </tbody>\n",
       "</table>\n",
       "</div>"
      ],
      "text/plain": [
       "            City ID    Latitude   Longitude  Max Temperature    Humidity  \\\n",
       "count  5.670000e+02  567.000000  567.000000       567.000000  567.000000   \n",
       "mean   2.680935e+06   20.923610   20.051685        49.708995   72.881834   \n",
       "std    1.583563e+06   33.459916   91.284754        31.353623   20.594996   \n",
       "min    4.974700e+04  -54.800000 -175.200000       -39.510000    1.000000   \n",
       "25%    1.529514e+06   -7.610700  -60.409550        30.490000   64.000000   \n",
       "50%    2.189343e+06   25.350000   22.154700        60.800000   78.000000   \n",
       "75%    3.658860e+06   49.614350  102.382750        75.200000   88.000000   \n",
       "max    6.690296e+06   78.218600  179.316700        91.870000  100.000000   \n",
       "\n",
       "           Clouds  Wind Speed          Date  \n",
       "count  567.000000  567.000000  5.670000e+02  \n",
       "mean    49.105820    8.499471  1.612652e+09  \n",
       "std     39.546807    6.030683  5.043479e+02  \n",
       "min      0.000000    0.040000  1.612651e+09  \n",
       "25%      3.500000    4.000000  1.612652e+09  \n",
       "50%     40.000000    6.910000  1.612652e+09  \n",
       "75%     90.000000   11.500000  1.612652e+09  \n",
       "max    100.000000   33.380000  1.612653e+09  "
      ]
     },
     "execution_count": 54,
     "metadata": {},
     "output_type": "execute_result"
    }
   ],
   "source": [
    "# Make a new DataFrame equal to the city data to drop all humidity outliers by index.\n",
    "# Passing \"inplace=False\" will make a copy of the city_data DataFrame, which we call \"clean_city_data\".\n",
    "clean_city_data = clean_weather_df.drop(cities_humid, inplace=False)\n",
    "clean_city_data.describe()"
   ]
  },
  {
   "cell_type": "code",
   "execution_count": null,
   "metadata": {},
   "outputs": [],
   "source": [
    "\n"
   ]
  },
  {
   "cell_type": "markdown",
   "metadata": {},
   "source": [
    "## Plotting the Data\n",
    "* Use proper labeling of the plots using plot titles (including date of analysis) and axes labels.\n",
    "* Save the plotted figures as .pngs."
   ]
  },
  {
   "cell_type": "markdown",
   "metadata": {},
   "source": [
    "## Latitude vs. Temperature Plot"
   ]
  },
  {
   "cell_type": "code",
   "execution_count": 67,
   "metadata": {
    "scrolled": true
   },
   "outputs": [
    {
     "data": {
      "text/plain": [
       "<function matplotlib.pyplot.show(*args, **kw)>"
      ]
     },
     "execution_count": 67,
     "metadata": {},
     "output_type": "execute_result"
    },
    {
     "data": {
      "image/png": "[encoded data removed]",
      "text/plain": [
       "<Figure size 432x288 with 1 Axes>"
      ]
     },
     "metadata": {
      "needs_background": "light"
     },
     "output_type": "display_data"
    }
   ],
   "source": [
    "#lat vs Temp Scatter plot\n",
    "plt.scatter(clean_city_data[\"Latitude\"], clean_city_data[\"Max Temperature\"], facecolor= \"yellow\", edgecolor=\"black\")\n",
    "#Plot Title\n",
    "plt.title(\"City Latitude Vs Max Temperature\")\n",
    "#X axis Label\n",
    "plt.xlabel(\"Latitude\")\n",
    "#Y axis label\n",
    "plt.ylabel(\"Temperature\")\n",
    "plt.show"
   ]
  },
  {
   "cell_type": "markdown",
   "metadata": {},
   "source": [
    "## Latitude vs. Humidity Plot"
   ]
  },
  {
   "cell_type": "code",
   "execution_count": 68,
   "metadata": {},
   "outputs": [
    {
     "data": {
      "text/plain": [
       "<function matplotlib.pyplot.show(*args, **kw)>"
      ]
     },
     "execution_count": 68,
     "metadata": {},
     "output_type": "execute_result"
    },
    {
     "data": {
      "image/png": "[encoded data removed]",
      "text/plain": [
       "<Figure size 432x288 with 1 Axes>"
      ]
     },
     "metadata": {
      "needs_background": "light"
     },
     "output_type": "display_data"
    }
   ],
   "source": [
    "#lat vs Humidity Scatter plot\n",
    "plt.scatter(clean_city_data[\"Latitude\"], clean_city_data[\"Humidity\"], facecolor= \"yellow\", edgecolor=\"black\")\n",
    "#Plot Title\n",
    "plt.title(\"City Latitude Vs Humidity\")\n",
    "#X axis Label\n",
    "plt.xlabel(\"Latitude\")\n",
    "#Y axis label\n",
    "plt.ylabel(\"Humidity\")\n",
    "plt.show"
   ]
  },
  {
   "cell_type": "markdown",
   "metadata": {},
   "source": [
    "## Latitude vs. Cloudiness Plot"
   ]
  },
  {
   "cell_type": "code",
   "execution_count": 70,
   "metadata": {},
   "outputs": [
    {
     "data": {
      "text/plain": [
       "<function matplotlib.pyplot.show(*args, **kw)>"
      ]
     },
     "execution_count": 70,
     "metadata": {},
     "output_type": "execute_result"
    },
    {
     "data": {
      "image/png": "[encoded data removed]",
      "text/plain": [
       "<Figure size 432x288 with 1 Axes>"
      ]
     },
     "metadata": {
      "needs_background": "light"
     },
     "output_type": "display_data"
    }
   ],
   "source": [
    "#lat vs Clouds Scatter plot\n",
    "plt.scatter(clean_city_data[\"Latitude\"], clean_city_data[\"Clouds\"], facecolor= \"yellow\", edgecolor=\"black\")\n",
    "#Plot Title\n",
    "plt.title(\"City Latitude Vs Clouds\")\n",
    "#X axis Label\n",
    "plt.xlabel(\"Latitude\")\n",
    "#Y axis label\n",
    "plt.ylabel(\"Clouds\")\n",
    "plt.show"
   ]
  },
  {
   "cell_type": "markdown",
   "metadata": {},
   "source": [
    "## Latitude vs. Wind Speed Plot"
   ]
  },
  {
   "cell_type": "code",
   "execution_count": 71,
   "metadata": {},
   "outputs": [
    {
     "data": {
      "text/plain": [
       "<function matplotlib.pyplot.show(*args, **kw)>"
      ]
     },
     "execution_count": 71,
     "metadata": {},
     "output_type": "execute_result"
    },
    {
     "data": {
      "image/png": "[encoded data removed]",
      "text/plain": [
       "<Figure size 432x288 with 1 Axes>"
      ]
     },
     "metadata": {
      "needs_background": "light"
     },
     "output_type": "display_data"
    }
   ],
   "source": [
    "#lat vs Clouds Scatter plot\n",
    "plt.scatter(clean_city_data[\"Latitude\"], clean_city_data[\"Wind Speed\"], facecolor= \"yellow\", edgecolor=\"black\")\n",
    "#Plot Title\n",
    "plt.title(\"City Latitude Vs Wind Speed\")\n",
    "#X axis Label\n",
    "plt.xlabel(\"Latitude\")\n",
    "#Y axis label\n",
    "plt.ylabel(\"Wind Speed\")\n",
    "plt.show"
   ]
  },
  {
   "cell_type": "markdown",
   "metadata": {},
   "source": [
    "## Linear Regression"
   ]
  },
  {
   "cell_type": "code",
   "execution_count": 76,
   "metadata": {},
   "outputs": [],
   "source": [
    "northen_hemisphere = clean_city_data[clean_city_data[\"Latitude\"] > 0]\n",
    "southern_hemisphere = clean_city_data[clean_city_data[\"Latitude\"] <= 0]"
   ]
  },
  {
   "cell_type": "markdown",
   "metadata": {},
   "source": [
    "####  Northern Hemisphere - Max Temp vs. Latitude Linear Regression"
   ]
  },
  {
   "cell_type": "code",
   "execution_count": 93,
   "metadata": {},
   "outputs": [
    {
     "name": "stdout",
     "output_type": "stream",
     "text": [
      "r-value: -0.8446123028170132\n"
     ]
    },
    {
     "data": {
      "text/plain": [
       "<function matplotlib.pyplot.show(*args, **kw)>"
      ]
     },
     "execution_count": 93,
     "metadata": {},
     "output_type": "execute_result"
    },
    {
     "data": {
      "image/png": "[encoded data removed]",
      "text/plain": [
       "<Figure size 432x288 with 1 Axes>"
      ]
     },
     "metadata": {
      "needs_background": "light"
     },
     "output_type": "display_data"
    }
   ],
   "source": [
    "x_values = northen_hemisphere[\"Latitude\"]\n",
    "y_values = northen_hemisphere[\"Max Temperature\"]\n",
    "(slope, intercept, rvalue, pvalue, stderr) = linregress(x_values, y_values)\n",
    "regress_values = x_values * slope + intercept\n",
    "line_regress_eq = \"y = \" + str(round(slope,2)) + \"x + \" + str(round(intercept,2))\n",
    "print(f\"r-value: {rvalue}\")\n",
    "plt.plot(x_values, regress_values, color=\"b\")\n",
    "plt.scatter(x_values, y_values, facecolor= \"yellow\", edgecolor=\"black\")\n",
    "#Plot Title\n",
    "plt.title(\"Northern Hemisphere - Max Temp vs. Latitude Linear Regression\")\n",
    "#X axis Label\n",
    "plt.xlabel(\"Latitude\")\n",
    "#Y axis label\n",
    "plt.ylabel(\"Max Temp\")\n",
    "plt.show"
   ]
  },
  {
   "cell_type": "markdown",
   "metadata": {},
   "source": [
    "####  Southern Hemisphere - Max Temp vs. Latitude Linear Regression"
   ]
  },
  {
   "cell_type": "code",
   "execution_count": 94,
   "metadata": {},
   "outputs": [
    {
     "name": "stdout",
     "output_type": "stream",
     "text": [
      "r-value: 0.5065636065409782\n"
     ]
    },
    {
     "data": {
      "text/plain": [
       "<function matplotlib.pyplot.show(*args, **kw)>"
      ]
     },
     "execution_count": 94,
     "metadata": {},
     "output_type": "execute_result"
    },
    {
     "data": {
      "image/png": "[encoded data removed]",
      "text/plain": [
       "<Figure size 432x288 with 1 Axes>"
      ]
     },
     "metadata": {
      "needs_background": "light"
     },
     "output_type": "display_data"
    }
   ],
   "source": [
    "x_values = southern_hemisphere[\"Latitude\"]\n",
    "y_values = southern_hemisphere[\"Max Temperature\"]\n",
    "(slope, intercept, rvalue, pvalue, stderr) = linregress(x_values, y_values)\n",
    "regress_values = x_values * slope + intercept\n",
    "line_regress_eq = \"y = \" + str(round(slope,2)) + \"x + \" + str(round(intercept,2))\n",
    "print(f\"r-value: {rvalue}\")\n",
    "plt.plot(x_values, regress_values, color=\"b\")\n",
    "plt.scatter(x_values, y_values, facecolor= \"yellow\", edgecolor=\"black\")\n",
    "#Plot Title\n",
    "plt.title(\"Southern Hemisphere - Max Temp vs. Latitude Linear Regression\")\n",
    "#X axis Label\n",
    "plt.xlabel(\"Latitude\")\n",
    "#Y axis label\n",
    "plt.ylabel(\"Max Temp\")\n",
    "plt.show"
   ]
  },
  {
   "cell_type": "markdown",
   "metadata": {},
   "source": [
    "####  Northern Hemisphere - Humidity (%) vs. Latitude Linear Regression"
   ]
  },
  {
   "cell_type": "code",
   "execution_count": 96,
   "metadata": {},
   "outputs": [
    {
     "name": "stdout",
     "output_type": "stream",
     "text": [
      "r-value: 0.30393512413507606\n"
     ]
    },
    {
     "data": {
      "text/plain": [
       "<function matplotlib.pyplot.show(*args, **kw)>"
      ]
     },
     "execution_count": 96,
     "metadata": {},
     "output_type": "execute_result"
    },
    {
     "data": {
      "image/png": "[encoded data removed]",
      "text/plain": [
       "<Figure size 432x288 with 1 Axes>"
      ]
     },
     "metadata": {
      "needs_background": "light"
     },
     "output_type": "display_data"
    }
   ],
   "source": [
    "x_values = northen_hemisphere[\"Latitude\"]\n",
    "y_values = northen_hemisphere[\"Humidity\"]\n",
    "(slope, intercept, rvalue, pvalue, stderr) = linregress(x_values, y_values)\n",
    "regress_values = x_values * slope + intercept\n",
    "line_regress_eq = \"y = \" + str(round(slope,2)) + \"x + \" + str(round(intercept,2))\n",
    "print(f\"r-value: {rvalue}\")\n",
    "plt.plot(x_values, regress_values, color=\"b\")\n",
    "plt.scatter(x_values, y_values, facecolor= \"yellow\", edgecolor=\"black\")\n",
    "#Plot Title\n",
    "plt.title(\"Northern Hemisphere - Latitude vs. Humidity\")\n",
    "#X axis Label\n",
    "plt.xlabel(\"Latitude\")\n",
    "#Y axis label\n",
    "plt.ylabel(\"Humidity\")\n",
    "plt.show"
   ]
  },
  {
   "cell_type": "markdown",
   "metadata": {},
   "source": [
    "####  Southern Hemisphere - Humidity (%) vs. Latitude Linear Regression"
   ]
  },
  {
   "cell_type": "code",
   "execution_count": 97,
   "metadata": {},
   "outputs": [
    {
     "name": "stdout",
     "output_type": "stream",
     "text": [
      "r-value: 0.3917393664420828\n"
     ]
    },
    {
     "data": {
      "text/plain": [
       "<function matplotlib.pyplot.show(*args, **kw)>"
      ]
     },
     "execution_count": 97,
     "metadata": {},
     "output_type": "execute_result"
    },
    {
     "data": {
      "image/png": "[encoded data removed]",
      "text/plain": [
       "<Figure size 432x288 with 1 Axes>"
      ]
     },
     "metadata": {
      "needs_background": "light"
     },
     "output_type": "display_data"
    }
   ],
   "source": [
    "x_values = southern_hemisphere[\"Latitude\"]\n",
    "y_values = southern_hemisphere[\"Humidity\"]\n",
    "(slope, intercept, rvalue, pvalue, stderr) = linregress(x_values, y_values)\n",
    "regress_values = x_values * slope + intercept\n",
    "line_regress_eq = \"y = \" + str(round(slope,2)) + \"x + \" + str(round(intercept,2))\n",
    "print(f\"r-value: {rvalue}\")\n",
    "plt.plot(x_values, regress_values, color=\"b\")\n",
    "plt.scatter(x_values, y_values, facecolor= \"yellow\", edgecolor=\"black\")\n",
    "#Plot Title\n",
    "plt.title(\"Southern Hemisphere - Latitude vs. Humidity\")\n",
    "#X axis Label\n",
    "plt.xlabel(\"Latitude\")\n",
    "#Y axis label\n",
    "plt.ylabel(\"Humidity\")\n",
    "plt.show"
   ]
  },
  {
   "cell_type": "markdown",
   "metadata": {},
   "source": [
    "####  Northern Hemisphere - Cloudiness (%) vs. Latitude Linear Regression"
   ]
  },
  {
   "cell_type": "code",
   "execution_count": 100,
   "metadata": {},
   "outputs": [
    {
     "name": "stdout",
     "output_type": "stream",
     "text": [
      "r-value: 0.2842345223017262\n"
     ]
    },
    {
     "data": {
      "text/plain": [
       "<function matplotlib.pyplot.show(*args, **kw)>"
      ]
     },
     "execution_count": 100,
     "metadata": {},
     "output_type": "execute_result"
    },
    {
     "data": {
      "image/png": "[encoded data removed]",
      "text/plain": [
       "<Figure size 432x288 with 1 Axes>"
      ]
     },
     "metadata": {
      "needs_background": "light"
     },
     "output_type": "display_data"
    }
   ],
   "source": [
    "x_values = northen_hemisphere[\"Latitude\"]\n",
    "y_values = northen_hemisphere[\"Clouds\"]\n",
    "(slope, intercept, rvalue, pvalue, stderr) = linregress(x_values, y_values)\n",
    "regress_values = x_values * slope + intercept\n",
    "line_regress_eq = \"y = \" + str(round(slope,2)) + \"x + \" + str(round(intercept,2))\n",
    "print(f\"r-value: {rvalue}\")\n",
    "plt.plot(x_values, regress_values, color=\"b\")\n",
    "plt.scatter(x_values, y_values, facecolor= \"yellow\", edgecolor=\"black\")\n",
    "#Plot Title\n",
    "plt.title(\"Northern Hemisphere - Cloudiness%\")\n",
    "#X axis Label\n",
    "plt.xlabel(\"Latitude\")\n",
    "#Y axis label\n",
    "plt.ylabel(\"Cloudiness %\")\n",
    "plt.show"
   ]
  },
  {
   "cell_type": "markdown",
   "metadata": {},
   "source": [
    "####  Southern Hemisphere - Cloudiness (%) vs. Latitude Linear Regression"
   ]
  },
  {
   "cell_type": "code",
   "execution_count": 101,
   "metadata": {},
   "outputs": [
    {
     "name": "stdout",
     "output_type": "stream",
     "text": [
      "r-value: 0.2858008933875218\n"
     ]
    },
    {
     "data": {
      "text/plain": [
       "<function matplotlib.pyplot.show(*args, **kw)>"
      ]
     },
     "execution_count": 101,
     "metadata": {},
     "output_type": "execute_result"
    },
    {
     "data": {
      "image/png": "[encoded data removed]",
      "text/plain": [
       "<Figure size 432x288 with 1 Axes>"
      ]
     },
     "metadata": {
      "needs_background": "light"
     },
     "output_type": "display_data"
    }
   ],
   "source": [
    "x_values = southern_hemisphere[\"Latitude\"]\n",
    "y_values = southern_hemisphere[\"Clouds\"]\n",
    "(slope, intercept, rvalue, pvalue, stderr) = linregress(x_values, y_values)\n",
    "regress_values = x_values * slope + intercept\n",
    "line_regress_eq = \"y = \" + str(round(slope,2)) + \"x + \" + str(round(intercept,2))\n",
    "print(f\"r-value: {rvalue}\")\n",
    "plt.plot(x_values, regress_values, color=\"b\")\n",
    "plt.scatter(x_values, y_values, facecolor= \"yellow\", edgecolor=\"black\")\n",
    "#Plot Title\n",
    "plt.title(\"Southern Hemisphere - Cloudiness%\")\n",
    "#X axis Label\n",
    "plt.xlabel(\"Latitude\")\n",
    "#Y axis label\n",
    "plt.ylabel(\"Cloudiness %\")\n",
    "plt.show"
   ]
  },
  {
   "cell_type": "markdown",
   "metadata": {},
   "source": [
    "####  Northern Hemisphere - Wind Speed (mph) vs. Latitude Linear Regression"
   ]
  },
  {
   "cell_type": "code",
   "execution_count": 103,
   "metadata": {},
   "outputs": [
    {
     "name": "stdout",
     "output_type": "stream",
     "text": [
      "r-value: 0.09178444094114126\n"
     ]
    },
    {
     "data": {
      "text/plain": [
       "<function matplotlib.pyplot.show(*args, **kw)>"
      ]
     },
     "execution_count": 103,
     "metadata": {},
     "output_type": "execute_result"
    },
    {
     "data": {
      "image/png": "[encoded data removed]",
      "text/plain": [
       "<Figure size 432x288 with 1 Axes>"
      ]
     },
     "metadata": {
      "needs_background": "light"
     },
     "output_type": "display_data"
    }
   ],
   "source": [
    "x_values = northen_hemisphere[\"Latitude\"]\n",
    "y_values = northen_hemisphere[\"Wind Speed\"]\n",
    "(slope, intercept, rvalue, pvalue, stderr) = linregress(x_values, y_values)\n",
    "regress_values = x_values * slope + intercept\n",
    "line_regress_eq = \"y = \" + str(round(slope,2)) + \"x + \" + str(round(intercept,2))\n",
    "print(f\"r-value: {rvalue}\")\n",
    "plt.plot(x_values, regress_values, color=\"b\")\n",
    "plt.scatter(x_values, y_values, facecolor= \"yellow\", edgecolor=\"black\")\n",
    "#Plot Title\n",
    "plt.title(\"Northern Hemisphere - Wind Speed\")\n",
    "#X axis Label\n",
    "plt.xlabel(\"Latitude\")\n",
    "#Y axis label\n",
    "plt.ylabel(\"Wind Speed\")\n",
    "plt.show"
   ]
  },
  {
   "cell_type": "markdown",
   "metadata": {},
   "source": [
    "####  Southern Hemisphere - Wind Speed (mph) vs. Latitude Linear Regression"
   ]
  },
  {
   "cell_type": "code",
   "execution_count": 104,
   "metadata": {},
   "outputs": [
    {
     "name": "stdout",
     "output_type": "stream",
     "text": [
      "r-value: -0.29995914956472747\n"
     ]
    },
    {
     "data": {
      "text/plain": [
       "<function matplotlib.pyplot.show(*args, **kw)>"
      ]
     },
     "execution_count": 104,
     "metadata": {},
     "output_type": "execute_result"
    },
    {
     "data": {
      "image/png": "[encoded data removed]",
      "text/plain": [
       "<Figure size 432x288 with 1 Axes>"
      ]
     },
     "metadata": {
      "needs_background": "light"
     },
     "output_type": "display_data"
    }
   ],
   "source": [
    "x_values = southern_hemisphere[\"Latitude\"]\n",
    "y_values = southern_hemisphere[\"Wind Speed\"]\n",
    "(slope, intercept, rvalue, pvalue, stderr) = linregress(x_values, y_values)\n",
    "regress_values = x_values * slope + intercept\n",
    "line_regress_eq = \"y = \" + str(round(slope,2)) + \"x + \" + str(round(intercept,2))\n",
    "print(f\"r-value: {rvalue}\")\n",
    "plt.plot(x_values, regress_values, color=\"b\")\n",
    "plt.scatter(x_values, y_values, facecolor= \"yellow\", edgecolor=\"black\")\n",
    "#Plot Title\n",
    "plt.title(\"Southern Hemisphere - Wind Speed\")\n",
    "#X axis Label\n",
    "plt.xlabel(\"Latitude\")\n",
    "#Y axis label\n",
    "plt.ylabel(\"Wind Speed\")\n",
    "plt.show"
   ]
  },
  {
   "cell_type": "code",
   "execution_count": null,
   "metadata": {},
   "outputs": [],
   "source": []
  }
 ],
 "metadata": {
  "anaconda-cloud": {},
  "kernel_info": {
   "name": "python3"
  },
  "kernelspec": {
   "display_name": "Python 3",
   "language": "python",
   "name": "python3"
  },
  "language_info": {
   "codemirror_mode": {
    "name": "ipython",
    "version": 3
   },
   "file_extension": ".py",
   "mimetype": "text/x-python",
   "name": "python",
   "nbconvert_exporter": "python",
   "pygments_lexer": "ipython3",
   "version": "3.6.10"
  },
  "latex_envs": {
   "LaTeX_envs_menu_present": true,
   "autoclose": false,
   "autocomplete": true,
   "bibliofile": "biblio.bib",
   "cite_by": "apalike",
   "current_citInitial": 1,
   "eqLabelWithNumbers": true,
   "eqNumInitial": 1,
   "hotkeys": {
    "equation": "Ctrl-E",
    "itemize": "Ctrl-I"
   },
   "labels_anchors": false,
   "latex_user_defs": false,
   "report_style_numbering": false,
   "user_envs_cfg": false
  },
  "nteract": {
   "version": "0.12.3"
  }
 },
 "nbformat": 4,
 "nbformat_minor": 2
}
